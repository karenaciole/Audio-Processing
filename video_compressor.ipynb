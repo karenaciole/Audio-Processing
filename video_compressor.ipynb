{
  "nbformat": 4,
  "nbformat_minor": 0,
  "metadata": {
    "colab": {
      "provenance": [],
      "authorship_tag": "ABX9TyNQKpsI42jnnUotX2WsG14I",
      "include_colab_link": true
    },
    "kernelspec": {
      "name": "python3",
      "display_name": "Python 3"
    },
    "language_info": {
      "name": "python"
    }
  },
  "cells": [
    {
      "cell_type": "markdown",
      "metadata": {
        "id": "view-in-github",
        "colab_type": "text"
      },
      "source": [
        "<a href=\"https://colab.research.google.com/github/nathanzilgo/Audio-Processing/blob/main/video_compressor.ipynb\" target=\"_parent\"><img src=\"https://colab.research.google.com/assets/colab-badge.svg\" alt=\"Open In Colab\"/></a>"
      ]
    },
    {
      "cell_type": "code",
      "execution_count": null,
      "metadata": {
        "id": "TJYWQ2P89_as"
      },
      "outputs": [],
      "source": [
        "import os\n",
        "import ffmpeg\n",
        "\n",
        "def compress_video(video_full_path, size_upper_bound, two_pass=True, filename_suffix='cps_'):\n",
        "    \"\"\"\n",
        "    Compress video file to max-supported size.\n",
        "    :param video_full_path: the video you want to compress.\n",
        "    :param size_upper_bound: Max video size in KB.\n",
        "    :param two_pass: Set to True to enable two-pass calculation.\n",
        "    :param filename_suffix: Add a suffix for new video.\n",
        "    :return: out_put_name or error\n",
        "    \"\"\"\n",
        "    filename, extension = os.path.splitext(video_full_path)\n",
        "    extension = '.mp4'\n",
        "    output_file_name = filename + filename_suffix + extension\n",
        "\n",
        "    # Adjust them to meet your minimum requirements (in bps), or maybe this function will refuse your video!\n",
        "    total_bitrate_lower_bound = 11000\n",
        "    min_audio_bitrate = 32000\n",
        "    max_audio_bitrate = 256000\n",
        "    min_video_bitrate = 100000\n",
        "\n",
        "    try:\n",
        "        # Bitrate reference: https://en.wikipedia.org/wiki/Bit_rate#Encoding_bit_rate\n",
        "        probe = ffmpeg.probe(video_full_path)\n",
        "        # Video duration, in s.\n",
        "        duration = float(probe['format']['duration'])\n",
        "        # Audio bitrate, in bps.\n",
        "        audio_bitrate = float(next((s for s in probe['streams'] if s['codec_type'] == 'audio'), None)['bit_rate'])\n",
        "        # Target total bitrate, in bps.\n",
        "        target_total_bitrate = (size_upper_bound * 1024 * 8) / (1.073741824 * duration)\n",
        "        if target_total_bitrate < total_bitrate_lower_bound:\n",
        "            print('Bitrate is extremely low! Stop compress!')\n",
        "            return False\n",
        "\n",
        "        # Best min size, in kB.\n",
        "        best_min_size = (min_audio_bitrate + min_video_bitrate) * (1.073741824 * duration) / (8 * 1024)\n",
        "        if size_upper_bound < best_min_size:\n",
        "            print('Quality not good! Recommended minimum size:', '{:,}'.format(int(best_min_size)), 'KB.')\n",
        "            # return False\n",
        "\n",
        "        # Target audio bitrate, in bps.\n",
        "        audio_bitrate = audio_bitrate\n",
        "\n",
        "        # target audio bitrate, in bps\n",
        "        if 10 * audio_bitrate > target_total_bitrate:\n",
        "            audio_bitrate = target_total_bitrate / 10\n",
        "            if audio_bitrate < min_audio_bitrate < target_total_bitrate:\n",
        "                audio_bitrate = min_audio_bitrate\n",
        "            elif audio_bitrate > max_audio_bitrate:\n",
        "                audio_bitrate = max_audio_bitrate\n",
        "\n",
        "        # Target video bitrate, in bps.\n",
        "        video_bitrate = target_total_bitrate - audio_bitrate\n",
        "        if video_bitrate < 1000:\n",
        "            print('Bitrate {} is extremely low! Stop compress.'.format(video_bitrate))\n",
        "            return False\n",
        "\n",
        "        i = ffmpeg.input(video_full_path)\n",
        "        if two_pass:\n",
        "            ffmpeg.output(i, os.devnull,\n",
        "                          **{'c:v': 'libx264', 'b:v': video_bitrate, 'pass': 1, 'f': 'mp4'}\n",
        "                          ).overwrite_output().run()\n",
        "            ffmpeg.output(i, output_file_name,\n",
        "                          **{'c:v': 'libx264', 'b:v': video_bitrate, 'pass': 2, 'c:a': 'aac', 'b:a': audio_bitrate}\n",
        "                          ).overwrite_output().run()\n",
        "        else:\n",
        "            ffmpeg.output(i, output_file_name,\n",
        "                          **{'c:v': 'libx264', 'b:v': video_bitrate, 'c:a': 'aac', 'b:a': audio_bitrate}\n",
        "                          ).overwrite_output().run()\n",
        "\n",
        "        if os.path.getsize(output_file_name) <= size_upper_bound * 1024:\n",
        "            return output_file_name\n",
        "        elif os.path.getsize(output_file_name) < os.path.getsize(video_full_path):  # Do it again\n",
        "            return compress_video(output_file_name, size_upper_bound)\n",
        "        else:\n",
        "            return False\n",
        "    except FileNotFoundError as e:\n",
        "        print('You do not have ffmpeg installed!', e)\n",
        "        print('You can install ffmpeg by reading https://github.com/kkroening/ffmpeg-python/issues/251')\n",
        "        return False\n",
        "\n",
        "if __name__ == '__main__':\n",
        "    file_name = compress_video('input.mp4', 50 * 1000)\n",
        "    print(file_name)"
      ]
    }
  ]
}